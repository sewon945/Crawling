{
 "cells": [
  {
   "cell_type": "markdown",
   "id": "f49fe2e4",
   "metadata": {},
   "source": [
    "# 필기답안지"
   ]
  },
  {
   "cell_type": "markdown",
   "id": "74e88e62",
   "metadata": {},
   "source": [
    "## 문제1 \n",
    "다음은 빅데이터 수집방식에 대한 설명이다. 빈 칸에 알맞은 방식을 고르시오."
   ]
  },
  {
   "cell_type": "markdown",
   "id": "29baa41a",
   "metadata": {},
   "source": [
    "- 1 : a. 로그수집\n",
    "- 2 : f. 크롤링\n",
    "- 3 : c. 오픈API\n",
    "- 4 : h. 센서수집"
   ]
  },
  {
   "cell_type": "markdown",
   "id": "098be8fb",
   "metadata": {},
   "source": [
    "## 문제2\n",
    "크롤링의 개념과 필요성에 대해 서술하시오.\n",
    "- 답안 : 크롤링은 인터넷상의 방대한 정보를 자동으로 수집하는 프로세스이다. 데이터 중심의 현대 사회에서 매우 중요한 역할을 한다. 이 기술은 웹 페이지의 내용을 분석하고, 필요한 데이터를 추출하여 저장하는 과정을 포함한다. 크롤링은 정보의 접근성을 높이고, 신속한 정보 처리를 가능하게 하며. 다양한 분야에서 의사결정을 지원하는 중용한 데이터를 제공한다."
   ]
  },
  {
   "cell_type": "markdown",
   "id": "29e08d76",
   "metadata": {},
   "source": [
    "## 문제3\n",
    "BeautifulSoup모듈에 대해 서술하시오.\n",
    "- 답안 : 파이썬 코드를 복잡하게 짜지 않아도 편하게 웹스크롤링을 할 수 있는 함수들을 제공하는 웹스크롤링 전문 모듈이다. 즉, requests로 받아온 텍스트 데이터를 컴퓨터가 이해할 수 있게 html로 변형해주는 라이브러리이다."
   ]
  },
  {
   "cell_type": "markdown",
   "id": "04c5d7be",
   "metadata": {},
   "source": [
    "## 문제4\n",
    "다음 두 보기의 차이를 설명하시오.\n",
    "- 1 : find_element(By.CSS_SELECTOR) : 단수개\n",
    "- 2 : find_elements(By.CSS_SELECTOR) : 복수개"
   ]
  },
  {
   "cell_type": "markdown",
   "id": "f82501f0",
   "metadata": {},
   "source": [
    "## 문제5\n",
    "다음은 HTML코드로 이루어진 웹 페이지이다. 밑줄 그어진 부분 BeautifulSoup 모듈의 함수를 이용하여 텍스트만 수집할 수 있는 코드에 빈칸을 작성하시오.\n",
    "- soup = bs(res.text, ‘lxml’)\n",
    "- crawling = soup.select_one(         \"div > p > span id\"         )\n",
    "- print(crawling.(     text         ))"
   ]
  },
  {
   "cell_type": "markdown",
   "id": "de85ce27",
   "metadata": {},
   "source": [
    "# 실기답안지"
   ]
  },
  {
   "cell_type": "code",
   "execution_count": 48,
   "id": "084e1440-8a77-44aa-be5b-f2128542199e",
   "metadata": {},
   "outputs": [],
   "source": [
    "from selenium import webdriver as wb\n",
    "from selenium.webdriver.common.by import By\n",
    "from selenium.webdriver.common.keys import Keys\n",
    "import time"
   ]
  },
  {
   "cell_type": "markdown",
   "id": "b2e6a5d6",
   "metadata": {},
   "source": [
    "## 문제2\n",
    "자동제어를 통해 네이버 홈페이지에 접속하고 ‘크롤링’를 입력하여 검색하는 시스템을 구축하시오."
   ]
  },
  {
   "cell_type": "code",
   "execution_count": 5,
   "id": "88f056a8",
   "metadata": {},
   "outputs": [],
   "source": [
    "driver = wb.Chrome()"
   ]
  },
  {
   "cell_type": "code",
   "execution_count": 6,
   "id": "4e513ebe-525a-491a-b243-395cba8fc347",
   "metadata": {},
   "outputs": [],
   "source": [
    "driver.get(\"http://www.naver.com\")"
   ]
  },
  {
   "cell_type": "code",
   "execution_count": 8,
   "id": "26ee3f16-f7c7-48ba-8e99-498b78e78abc",
   "metadata": {},
   "outputs": [],
   "source": [
    "search = driver.find_element(By.ID, \"query\")"
   ]
  },
  {
   "cell_type": "code",
   "execution_count": 9,
   "id": "8fc19683-f2a9-4fad-82d7-ba4f2d3d2478",
   "metadata": {},
   "outputs": [],
   "source": [
    "search.send_keys(\"크롤링\")"
   ]
  },
  {
   "cell_type": "code",
   "execution_count": 10,
   "id": "0a9d3ede-c0a9-44b2-a2b9-a684eaade6ab",
   "metadata": {},
   "outputs": [],
   "source": [
    "search.send_keys(Keys.ENTER)"
   ]
  },
  {
   "cell_type": "markdown",
   "id": "dd7ec12a",
   "metadata": {},
   "source": [
    "# 문제3\n",
    "자동제어를 통해 G마켓 홈페이지에 접속하고, 조건에 맞는 수집프로그램을 만드시오."
   ]
  },
  {
   "cell_type": "code",
   "execution_count": 38,
   "id": "f8cbe3be",
   "metadata": {},
   "outputs": [],
   "source": [
    "driver = wb.Chrome()\n",
    "driver.get(\"http://corners.gmarket.co.kr/Bestsellers\")"
   ]
  },
  {
   "cell_type": "code",
   "execution_count": 39,
   "id": "9746b579-d892-4843-86c8-48980c8a54a7",
   "metadata": {},
   "outputs": [],
   "source": [
    "img = driver.find_elements(By.CSS_SELECTOR, \"#gBestWrap > div.best-list > ul > li > div.thumb > a > img\")\n",
    "img[0].click()"
   ]
  },
  {
   "cell_type": "code",
   "execution_count": 42,
   "id": "c8b93dcb-1dbe-43af-a945-bd103f68feb5",
   "metadata": {
    "scrolled": true
   },
   "outputs": [],
   "source": [
    "titleList = []\n",
    "priceList = []\n",
    "title = driver.find_element(By.CSS_SELECTOR, \"#itemcase_basic > div.box__item-title > h1\")\n",
    "price = driver.find_element(By.CSS_SELECTOR, \"#itemcase_basic > div.box__item-title > div.price > span:nth-child(2) > strong\")\n",
    "titleList.append(title.text)\n",
    "priceList.append(price.text)"
   ]
  },
  {
   "cell_type": "code",
   "execution_count": 45,
   "id": "cbf1cd22-8798-4fed-b7bc-04db16bdbce9",
   "metadata": {},
   "outputs": [],
   "source": [
    "driver.back()"
   ]
  },
  {
   "cell_type": "code",
   "execution_count": 46,
   "id": "6af560bd-cc60-4b44-9870-fa135aa1d122",
   "metadata": {
    "scrolled": true
   },
   "outputs": [],
   "source": [
    "titleList = []\n",
    "priceList = []\n",
    "\n",
    "for i in range(20) :\n",
    "    img = driver.find_elements(By.CSS_SELECTOR, \"#gBestWrap > div.best-list > ul > li > div.thumb > a > img\")\n",
    "    img[i].click()\n",
    "    time.sleep(1)\n",
    "    title = driver.find_element(By.CSS_SELECTOR, \"#itemcase_basic > div.box__item-title > h1\")\n",
    "    try :\n",
    "        price = driver.find_element(By.CSS_SELECTOR, \"#itemcase_basic > div.box__item-title > div.price > span.price_innerwrap.price_innerwrap-coupon > strong\")\n",
    "    except :\n",
    "        price = driver.find_element(By.CSS_SELECTOR, \"#itemcase_basic > div.box__item-title > div.price > span:nth-child(2) > strong\")\n",
    "    titleList.append(title.text)\n",
    "    priceList.append(price.text)\n",
    "    driver.back()\n",
    "    time.sleep(1)"
   ]
  },
  {
   "cell_type": "code",
   "execution_count": null,
   "id": "cbdf79ae-52b4-4c89-9759-1c7ff4d21612",
   "metadata": {},
   "outputs": [],
   "source": []
  },
  {
   "cell_type": "markdown",
   "id": "5fb5a240",
   "metadata": {},
   "source": [
    "# 문제4\n",
    "멜론차트에서 1~100위까지 정보를 수집하는 프로그램을 작성하시오."
   ]
  },
  {
   "cell_type": "code",
   "execution_count": 118,
   "id": "9d737232-d16b-4e3e-91ac-a0a048502857",
   "metadata": {},
   "outputs": [],
   "source": [
    "import requests as req\n",
    "from bs4 import BeautifulSoup as bs"
   ]
  },
  {
   "cell_type": "code",
   "execution_count": 119,
   "id": "59a23936",
   "metadata": {},
   "outputs": [
    {
     "data": {
      "text/plain": [
       "<Response [406]>"
      ]
     },
     "execution_count": 119,
     "metadata": {},
     "output_type": "execute_result"
    }
   ],
   "source": [
    "req.get(\"https://www.melon.com/chart/\")"
   ]
  },
  {
   "cell_type": "code",
   "execution_count": 120,
   "id": "5bec1da0-034e-437d-b48d-873edf6d875c",
   "metadata": {},
   "outputs": [],
   "source": [
    "head = {'User-Agent':'Mozilla/5.0 (Windows NT 10.0; Win64; x64) AppleWebKit/537.36 (KHTML, like Gecko) Chrome/124.0.0.0 Safari/537.36'}"
   ]
  },
  {
   "cell_type": "code",
   "execution_count": 153,
   "id": "16d89da7-e5a2-4a13-8ba2-a1af47558706",
   "metadata": {},
   "outputs": [],
   "source": [
    "res = req.get(\"https://www.melon.com/chart/\", headers = head) "
   ]
  },
  {
   "cell_type": "code",
   "execution_count": 122,
   "id": "22b927b0-5b00-46be-a57a-a91a2df8957c",
   "metadata": {},
   "outputs": [],
   "source": [
    "soup = bs(res.text, \"lxml\")"
   ]
  },
  {
   "cell_type": "code",
   "execution_count": 148,
   "id": "8013ebd3-a1a8-43be-be98-9d8820272761",
   "metadata": {
    "scrolled": true
   },
   "outputs": [],
   "source": [
    "title = soup.select(\"div.ellipsis.rank01 > span > a\")"
   ]
  },
  {
   "cell_type": "code",
   "execution_count": 161,
   "id": "f7705f84-197a-4c1f-bbd9-def6b9c2614a",
   "metadata": {},
   "outputs": [],
   "source": [
    "singer = soup.select(\"td:nth-child(6) > div > div > div.ellipsis.rank02 > span\")"
   ]
  },
  {
   "cell_type": "code",
   "execution_count": 162,
   "id": "e1ac5d36-10e2-4ff1-babd-547f6160c26f",
   "metadata": {},
   "outputs": [
    {
     "data": {
      "text/plain": [
       "100"
      ]
     },
     "execution_count": 162,
     "metadata": {},
     "output_type": "execute_result"
    }
   ],
   "source": [
    "len(singer)"
   ]
  },
  {
   "cell_type": "code",
   "execution_count": 163,
   "id": "7cecb56e-484c-4966-ac7a-2123c6722d3d",
   "metadata": {
    "scrolled": true
   },
   "outputs": [
    {
     "name": "stdout",
     "output_type": "stream",
     "text": [
      "지코 (ZICO)\n",
      "IVE (아이브)\n",
      "아일릿(ILLIT)\n",
      "QWER\n",
      "(여자)아이들\n",
      "Crush\n",
      "aespa\n",
      "TWS (투어스)\n",
      "이클립스 (ECLIPSE)\n",
      "이창섭\n",
      "임영웅\n",
      "BABYMONSTER\n",
      "비비 (BIBI)\n",
      "DAY6 (데이식스)\n",
      "임영웅\n",
      "아이유\n",
      "DAY6 (데이식스)\n",
      "임영웅\n",
      "임영웅\n",
      "세븐틴 (SEVENTEEN)\n",
      "임영웅\n",
      "임영웅\n",
      "임영웅\n",
      "임영웅\n",
      "임재현\n",
      "임영웅\n",
      "임영웅\n",
      "임영웅\n",
      "임영웅\n",
      "이무진\n",
      "태연 (TAEYEON)\n",
      "임영웅\n",
      "너드커넥션 (Nerd Connection)\n",
      "LE SSERAFIM (르세라핌)\n",
      "NewJeans\n",
      "LE SSERAFIM (르세라핌)\n",
      "정국\n",
      "박재정\n",
      "IVE (아이브)\n",
      "DAY6 (데이식스)\n",
      "임영웅\n",
      "aespa\n",
      "RIIZE\n",
      "NewJeans\n",
      "PLAVE\n",
      "멜로망스\n",
      "부석순 (SEVENTEEN)\n",
      "NewJeans\n",
      "LE SSERAFIM (르세라핌)\n",
      "범진\n",
      "NewJeans\n",
      "아일릿(ILLIT)\n",
      "성시경\n",
      "세븐틴 (SEVENTEEN)\n",
      "세븐틴 (SEVENTEEN)\n",
      "아이유\n",
      "VIVIZ (비비지)\n",
      "방탄소년단\n",
      "조이 (JOY), BIG Naughty (서동현)\n",
      "KISS OF LIFE\n",
      "우디 (Woody)\n",
      "태연 (TAEYEON)\n",
      "방탄소년단\n",
      "aespa\n",
      "PLAVE\n",
      "잔나비\n",
      "RIIZE\n",
      "AKMU (악뮤)\n",
      "유회승 (엔플라잉)\n",
      "(여자)아이들\n",
      "NewJeans\n",
      "RIIZE\n",
      "PLAVE\n",
      "순순희 (지환)\n",
      "NewJeans\n",
      "폴킴\n",
      "PLAVE\n",
      "IVE (아이브)\n",
      "10CM\n",
      "윤하 (YOUNHA)\n",
      "AKMU (악뮤)\n",
      "김민석\n",
      "RIIZE\n",
      "PLAVE\n",
      "IVE (아이브)\n",
      "순순희(기태)\n",
      "로이킴\n",
      "Charlie Puth\n",
      "경서예지, 전건호\n",
      "임한별\n",
      "(여자)아이들\n",
      "세븐틴 (SEVENTEEN)\n",
      "제니 (JENNIE)\n",
      "DK(디셈버)\n",
      "헤이즈 (Heize)\n",
      "IVE (아이브)\n",
      "우디 (Woody)\n",
      "폴킴\n",
      "도영 (DOYOUNG)\n",
      "AKMU (악뮤)\n"
     ]
    }
   ],
   "source": [
    "for i in singer :\n",
    "    print(i.text)"
   ]
  },
  {
   "cell_type": "code",
   "execution_count": 164,
   "id": "c85c94a3-2dea-42f8-bb11-be841efb2b0f",
   "metadata": {},
   "outputs": [],
   "source": [
    "titleList = []\n",
    "singerList = []\n",
    "rankList = []\n",
    "for i in range(len(title)) :\n",
    "    titleList.append(title[i].text)\n",
    "    singerList.append(singer[i].text)\n",
    "    rankList.append(i+1)"
   ]
  },
  {
   "cell_type": "code",
   "execution_count": 165,
   "id": "9670e856-6841-4178-ae5e-abdef61c892e",
   "metadata": {
    "scrolled": true
   },
   "outputs": [],
   "source": [
    "import pandas as pd"
   ]
  },
  {
   "cell_type": "code",
   "execution_count": 166,
   "id": "d3a523a9-50ee-4190-8591-c2a9061519cf",
   "metadata": {},
   "outputs": [],
   "source": [
    "dic = {\"순위\":rankList, \"가수\" : singerList, \"노래제목\" : titleList}"
   ]
  },
  {
   "cell_type": "code",
   "execution_count": 167,
   "id": "8c164f71-7082-4042-946b-ace5bca62c9d",
   "metadata": {},
   "outputs": [],
   "source": [
    "melon = pd.DataFrame(dic)"
   ]
  },
  {
   "cell_type": "code",
   "execution_count": 168,
   "id": "15e5c427-54ee-4610-b3a6-747bbdeed4f7",
   "metadata": {},
   "outputs": [],
   "source": [
    "melon.to_csv(\"멜론차트.csv\", encoding=\"euc-kr\")"
   ]
  },
  {
   "cell_type": "code",
   "execution_count": 169,
   "id": "a8d834bd-7894-426d-bccd-b4032fbe4241",
   "metadata": {},
   "outputs": [],
   "source": [
    "melon.set_index(\"순위\", inplace = True)"
   ]
  },
  {
   "cell_type": "code",
   "execution_count": 170,
   "id": "1fc938ca-6835-476b-a21c-c128eb6351d8",
   "metadata": {
    "scrolled": true
   },
   "outputs": [
    {
     "data": {
      "text/html": [
       "<div>\n",
       "<style scoped>\n",
       "    .dataframe tbody tr th:only-of-type {\n",
       "        vertical-align: middle;\n",
       "    }\n",
       "\n",
       "    .dataframe tbody tr th {\n",
       "        vertical-align: top;\n",
       "    }\n",
       "\n",
       "    .dataframe thead th {\n",
       "        text-align: right;\n",
       "    }\n",
       "</style>\n",
       "<table border=\"1\" class=\"dataframe\">\n",
       "  <thead>\n",
       "    <tr style=\"text-align: right;\">\n",
       "      <th></th>\n",
       "      <th>가수</th>\n",
       "      <th>노래제목</th>\n",
       "    </tr>\n",
       "    <tr>\n",
       "      <th>순위</th>\n",
       "      <th></th>\n",
       "      <th></th>\n",
       "    </tr>\n",
       "  </thead>\n",
       "  <tbody>\n",
       "    <tr>\n",
       "      <th>1</th>\n",
       "      <td>지코 (ZICO)</td>\n",
       "      <td>SPOT! (feat. JENNIE)</td>\n",
       "    </tr>\n",
       "    <tr>\n",
       "      <th>2</th>\n",
       "      <td>IVE (아이브)</td>\n",
       "      <td>해야 (HEYA)</td>\n",
       "    </tr>\n",
       "    <tr>\n",
       "      <th>3</th>\n",
       "      <td>아일릿(ILLIT)</td>\n",
       "      <td>Magnetic</td>\n",
       "    </tr>\n",
       "    <tr>\n",
       "      <th>4</th>\n",
       "      <td>QWER</td>\n",
       "      <td>고민중독</td>\n",
       "    </tr>\n",
       "    <tr>\n",
       "      <th>5</th>\n",
       "      <td>(여자)아이들</td>\n",
       "      <td>나는 아픈 건 딱 질색이니까</td>\n",
       "    </tr>\n",
       "    <tr>\n",
       "      <th>...</th>\n",
       "      <td>...</td>\n",
       "      <td>...</td>\n",
       "    </tr>\n",
       "    <tr>\n",
       "      <th>96</th>\n",
       "      <td>IVE (아이브)</td>\n",
       "      <td>Kitsch</td>\n",
       "    </tr>\n",
       "    <tr>\n",
       "      <th>97</th>\n",
       "      <td>우디 (Woody)</td>\n",
       "      <td>혹시 세상에 혼자 남겨진 것 같다면</td>\n",
       "    </tr>\n",
       "    <tr>\n",
       "      <th>98</th>\n",
       "      <td>폴킴</td>\n",
       "      <td>좋아해요</td>\n",
       "    </tr>\n",
       "    <tr>\n",
       "      <th>99</th>\n",
       "      <td>도영 (DOYOUNG)</td>\n",
       "      <td>반딧불 (Little Light)</td>\n",
       "    </tr>\n",
       "    <tr>\n",
       "      <th>100</th>\n",
       "      <td>AKMU (악뮤)</td>\n",
       "      <td>후라이의 꿈</td>\n",
       "    </tr>\n",
       "  </tbody>\n",
       "</table>\n",
       "<p>100 rows × 2 columns</p>\n",
       "</div>"
      ],
      "text/plain": [
       "               가수                  노래제목\n",
       "순위                                     \n",
       "1       지코 (ZICO)  SPOT! (feat. JENNIE)\n",
       "2       IVE (아이브)             해야 (HEYA)\n",
       "3      아일릿(ILLIT)              Magnetic\n",
       "4            QWER                  고민중독\n",
       "5         (여자)아이들       나는 아픈 건 딱 질색이니까\n",
       "..            ...                   ...\n",
       "96      IVE (아이브)                Kitsch\n",
       "97     우디 (Woody)   혹시 세상에 혼자 남겨진 것 같다면\n",
       "98             폴킴                  좋아해요\n",
       "99   도영 (DOYOUNG)    반딧불 (Little Light)\n",
       "100     AKMU (악뮤)                후라이의 꿈\n",
       "\n",
       "[100 rows x 2 columns]"
      ]
     },
     "execution_count": 170,
     "metadata": {},
     "output_type": "execute_result"
    }
   ],
   "source": [
    "melon"
   ]
  },
  {
   "cell_type": "code",
   "execution_count": null,
   "id": "4b351de6-ac95-4232-ae95-b61165242c0a",
   "metadata": {},
   "outputs": [],
   "source": []
  },
  {
   "cell_type": "code",
   "execution_count": null,
   "id": "23d66cb0-9139-4765-806b-5d5a6dde2be5",
   "metadata": {},
   "outputs": [],
   "source": []
  },
  {
   "cell_type": "markdown",
   "id": "9c9091fc",
   "metadata": {},
   "source": [
    "# 문제5\n",
    "자동제어를 통해 한솥 페이지에 접속하고 전체 메뉴의 메뉴명 가격정보를 수집할 수 있는 프로그램을 작성하세요 "
   ]
  },
  {
   "cell_type": "code",
   "execution_count": 135,
   "id": "4510e450-dc4e-4f68-9abd-ae04c5d80cdf",
   "metadata": {},
   "outputs": [],
   "source": [
    "from selenium import webdriver as wb\n",
    "from selenium.webdriver.common.by import By\n",
    "import pandas as pd"
   ]
  },
  {
   "cell_type": "code",
   "execution_count": 145,
   "id": "62442abb-4b82-47d8-9563-8c7bf9fb7a93",
   "metadata": {},
   "outputs": [],
   "source": [
    "btn = driver.find_element(By.CSS_SELECTOR, \"#btn_more > span > a\")"
   ]
  },
  {
   "cell_type": "code",
   "execution_count": 144,
   "id": "fc96e7e1-7e2e-4f61-9645-5113e7aca591",
   "metadata": {},
   "outputs": [],
   "source": [
    "title = driver.find_elements(By.CSS_SELECTOR, \"div > div.item-text > h4\")"
   ]
  },
  {
   "cell_type": "code",
   "execution_count": 143,
   "id": "96d59e58-1103-48a9-84cb-3add6503b3bb",
   "metadata": {},
   "outputs": [],
   "source": [
    "price =driver.find_elements(By.CSS_SELECTOR, \"div > div.item-text > div\")"
   ]
  },
  {
   "cell_type": "code",
   "execution_count": 147,
   "id": "a7ee4451",
   "metadata": {},
   "outputs": [
    {
     "name": "stdout",
     "output_type": "stream",
     "text": [
      "더보기 완료\n"
     ]
    }
   ],
   "source": [
    "driver = wb.Chrome()\n",
    "driver.get(\"https://www.hsd.co.kr/menu/menu_list\")\n",
    "time.sleep(1)\n",
    "driver.maximize_window()\n",
    "try : \n",
    "    for i in range(10) :\n",
    "        btn = driver.find_element(By.CSS_SELECTOR, \"#btn_more > span > a\")\n",
    "        btn.click()\n",
    "        time.sleep(1)\n",
    "except :\n",
    "    print(\"더보기 완료\")\n",
    "title = driver.find_elements(By.CSS_SELECTOR, \"div > div.item-text > h4\")\n",
    "price = driver.find_elements(By.CSS_SELECTOR, \"div > div.item-text > div\")\n",
    "titleList = []\n",
    "priceList = []\n",
    "for i in range(len(title)) :\n",
    "    titleList.append(title[i].text)\n",
    "    priceList.append(price[i].text)\n",
    "dic = {\"상품이름\" : titleList, \"가격정보\" : priceList}\n",
    "data = pd.DataFrame(dic)\n",
    "data.to_csv(\"한솥도시락.csv\", encoding = \"euc-kr\")"
   ]
  },
  {
   "cell_type": "code",
   "execution_count": 138,
   "id": "22a9feee-56d4-4973-a740-7415e198cd6f",
   "metadata": {},
   "outputs": [],
   "source": []
  },
  {
   "cell_type": "code",
   "execution_count": null,
   "id": "c89b0763-655d-40f7-8850-6e6e8d6178a0",
   "metadata": {},
   "outputs": [],
   "source": []
  },
  {
   "cell_type": "code",
   "execution_count": null,
   "id": "8fe7c49f-4ff0-4f9f-9af1-3cf927042efb",
   "metadata": {},
   "outputs": [],
   "source": []
  },
  {
   "cell_type": "code",
   "execution_count": null,
   "id": "d3b6c018-b22b-481e-9ab2-66cf9d088eec",
   "metadata": {},
   "outputs": [],
   "source": []
  },
  {
   "cell_type": "code",
   "execution_count": null,
   "id": "d54d1810-f0af-4776-9255-9bf5afc3ca6a",
   "metadata": {},
   "outputs": [],
   "source": []
  },
  {
   "cell_type": "code",
   "execution_count": null,
   "id": "682219a1-e2eb-4ea3-b067-b10e7e4f43a5",
   "metadata": {},
   "outputs": [],
   "source": []
  },
  {
   "cell_type": "code",
   "execution_count": null,
   "id": "424a49d4-afbc-407e-a5c3-2bbf93550cf4",
   "metadata": {},
   "outputs": [],
   "source": []
  },
  {
   "cell_type": "code",
   "execution_count": null,
   "id": "d71f4816-2b9e-4197-b1c3-e276b42116b5",
   "metadata": {},
   "outputs": [],
   "source": []
  },
  {
   "cell_type": "code",
   "execution_count": null,
   "id": "e0c24f38-9795-4b24-b51e-de040f86faac",
   "metadata": {},
   "outputs": [],
   "source": []
  },
  {
   "cell_type": "code",
   "execution_count": null,
   "id": "51ac9629-93a1-44fb-a00f-75e9514d29ec",
   "metadata": {},
   "outputs": [],
   "source": []
  }
 ],
 "metadata": {
  "kernelspec": {
   "display_name": "Python 3 (ipykernel)",
   "language": "python",
   "name": "python3"
  },
  "language_info": {
   "codemirror_mode": {
    "name": "ipython",
    "version": 3
   },
   "file_extension": ".py",
   "mimetype": "text/x-python",
   "name": "python",
   "nbconvert_exporter": "python",
   "pygments_lexer": "ipython3",
   "version": "3.11.7"
  }
 },
 "nbformat": 4,
 "nbformat_minor": 5
}
