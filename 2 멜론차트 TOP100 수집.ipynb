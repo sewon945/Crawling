{
 "cells": [
  {
   "cell_type": "code",
   "execution_count": 9,
   "id": "aaf27e4d-b5f0-4a4b-a29d-85d45f51d8f0",
   "metadata": {},
   "outputs": [],
   "source": [
    "import requests as req\n",
    "from bs4 import BeautifulSoup as bs"
   ]
  },
  {
   "cell_type": "code",
   "execution_count": 10,
   "id": "20b822c2-9b92-40d6-af41-e9c38cb621c3",
   "metadata": {},
   "outputs": [
    {
     "data": {
      "text/plain": [
       "<Response [406]>"
      ]
     },
     "execution_count": 10,
     "metadata": {},
     "output_type": "execute_result"
    }
   ],
   "source": [
    "# 1. req를 통해서 멜론차트 사이트 요청\n",
    "req.get(\"https://www.melon.com/chart/\")"
   ]
  },
  {
   "cell_type": "code",
   "execution_count": 11,
   "id": "12dfac6c-4576-41f4-8839-ac367868cccc",
   "metadata": {},
   "outputs": [],
   "source": [
    "# 2. 다시 한 번 요청을 보내긴 하는데, 브라우저인 척 속여서 접근\n",
    "# 406이 나오면 반드시 이 방법을 사용해 볼 것!\n",
    "head = {'User-Agent':'Mozilla/5.0 (Windows NT 10.0; Win64; x64) AppleWebKit/537.36 (KHTML, like Gecko) Chrome/124.0.0.0 Safari/537.36'}"
   ]
  },
  {
   "cell_type": "code",
   "execution_count": 19,
   "id": "fe471035-54a0-423b-af54-ae13fbc5c41c",
   "metadata": {},
   "outputs": [],
   "source": [
    "# 브라우저인 척 속이는 작업\n",
    "# 헤더(hearders) 공간에 방금 내가 만든 헤드를 넣어줘서 200으로 만들어주기\n",
    "res = req.get(\"https://www.melon.com/chart/\", headers = head) "
   ]
  },
  {
   "cell_type": "code",
   "execution_count": 13,
   "id": "a6d20db6-688f-42e3-aeff-79a413128d14",
   "metadata": {},
   "outputs": [],
   "source": [
    "# 3. bs데이터로 변형\n",
    "soup = bs(res.text, \"lxml\")"
   ]
  },
  {
   "cell_type": "code",
   "execution_count": 20,
   "id": "e23ad78e-66bd-4faa-843a-bee845d0a468",
   "metadata": {},
   "outputs": [],
   "source": [
    "# 4. 노래제목 수집\n",
    "# 선택자를 분석할 때 원하는 요소(태그)에 ID, CLASS가 존재하지 않은 경우에는\n",
    "# 반드시 (나를 포함하고 있는) 부모태그(계층선택자)를 활용해라! -> 부모태그도 id, class 구분자가 있을 때까지 찾아가야 한다.\n",
    "# 클래스가 중간에 공백이 들어간 경우는 -> 클래스가 복수개 -> 공백을 지우고 \".\"으로 이어줘라!\n",
    "\n",
    "title = soup.select(\"div.ellipsis.rank01 > span > a\")    \n",
    "# div.ellipsis rank01 그 밑에 있는 span태그와 a태그를 자식으로 가져오겠다는 뜻\n",
    "\n",
    "# 선택자를 쓸 땐 범위를 명확하게 써주어야한다 (데이터 목적지를 구체적으로 적어주어야함)\n",
    "# div에 ellipsis와 rank01을 띄어쓰기를 한거기에 자손으로 가지고 있는 것임 그 공백을 지우고 자식인 \".\"으로 바꿔주기"
   ]
  },
  {
   "cell_type": "code",
   "execution_count": 15,
   "id": "b02b5788-d9d7-4861-a105-fcff70839072",
   "metadata": {
    "scrolled": true
   },
   "outputs": [],
   "source": [
    "# 5. 가수이름 수집\n",
    "#singer = soup.select(\"div.ellipsis.rank02 > a\")"
   ]
  },
  {
   "cell_type": "code",
   "execution_count": 16,
   "id": "8dbd2d4e-7e5c-4764-8aa9-70d20788ad2d",
   "metadata": {},
   "outputs": [],
   "source": [
    "# len(singer)\n",
    "# 컴퓨터가 '다정히 내 이름을 부르면'에서 \"경서예지\"와 \"전건호\"를 따로따로 가져와버림"
   ]
  },
  {
   "cell_type": "code",
   "execution_count": 17,
   "id": "4ec2137d-3f8b-4618-86cf-002b4e257679",
   "metadata": {},
   "outputs": [],
   "source": [
    "# 5. a를 가져오지 말고 그 상자인 얘를 다 포함하고 있는 부모인 div만 가져오기\n",
    "# singer = soup.select(\"div.ellipsis.rank02\")"
   ]
  },
  {
   "cell_type": "code",
   "execution_count": 21,
   "id": "4e2f30ce-6ac4-4c34-a8d2-38107d86e6d2",
   "metadata": {},
   "outputs": [],
   "source": [
    "# len(singer)"
   ]
  },
  {
   "cell_type": "code",
   "execution_count": 24,
   "id": "e2e2c5da-1974-4617-ae35-92d3fd057214",
   "metadata": {},
   "outputs": [],
   "source": [
    "# 5. 가수이름 수집\n",
    "# a태그를 가져오는 게 아니라 span태그를 묶음만 들고 오면 개수도 100개이면서 중복도 없음\n",
    "singer = soup.select(\"div.ellipsis.rank02 > span.checkEllipsis\")"
   ]
  },
  {
   "cell_type": "code",
   "execution_count": 25,
   "id": "0b54a0bd-8c13-4c02-abdc-9d38bf0bb661",
   "metadata": {},
   "outputs": [
    {
     "data": {
      "text/plain": [
       "100"
      ]
     },
     "execution_count": 25,
     "metadata": {},
     "output_type": "execute_result"
    }
   ],
   "source": [
    "len(singer)"
   ]
  },
  {
   "cell_type": "code",
   "execution_count": 26,
   "id": "fc156b78-f4cf-4611-98a5-cdde4d2332e6",
   "metadata": {
    "scrolled": true
   },
   "outputs": [
    {
     "name": "stdout",
     "output_type": "stream",
     "text": [
      "지코 (ZICO)\n",
      "아일릿(ILLIT)\n",
      "IVE (아이브)\n",
      "(여자)아이들\n",
      "QWER\n",
      "Crush\n",
      "TWS (투어스)\n",
      "이창섭\n",
      "BABYMONSTER\n",
      "비비 (BIBI)\n",
      "아이유\n",
      "임영웅\n",
      "DAY6 (데이식스)\n",
      "세븐틴 (SEVENTEEN)\n",
      "DAY6 (데이식스)\n",
      "임영웅\n",
      "임영웅\n",
      "임재현\n",
      "임영웅\n",
      "임영웅\n",
      "임영웅\n",
      "임영웅\n",
      "태연 (TAEYEON)\n",
      "LE SSERAFIM (르세라핌)\n",
      "임영웅\n",
      "NewJeans\n",
      "임영웅\n",
      "너드커넥션 (Nerd Connection)\n",
      "임영웅\n",
      "이클립스 (ECLIPSE)\n",
      "임영웅\n",
      "LE SSERAFIM (르세라핌)\n",
      "이무진\n",
      "임영웅\n",
      "박재정\n",
      "IVE (아이브)\n",
      "임영웅\n",
      "정국\n",
      "NewJeans\n",
      "RIIZE\n",
      "부석순 (SEVENTEEN)\n",
      "DAY6 (데이식스)\n",
      "NewJeans\n",
      "LE SSERAFIM (르세라핌)\n",
      "NewJeans\n",
      "aespa\n",
      "세븐틴 (SEVENTEEN)\n",
      "PLAVE\n",
      "범진\n",
      "세븐틴 (SEVENTEEN)\n",
      "멜로망스\n",
      "성시경\n",
      "아이유\n",
      "VIVIZ (비비지)\n",
      "우디 (Woody)\n",
      "태연 (TAEYEON)\n",
      "RIIZE\n",
      "AKMU (악뮤)\n",
      "(여자)아이들\n",
      "NewJeans\n",
      "RIIZE\n",
      "잔나비\n",
      "임영웅\n",
      "PLAVE\n",
      "윤하 (YOUNHA)\n",
      "RIIZE\n",
      "AKMU (악뮤)\n",
      "(여자)아이들\n",
      "NewJeans\n",
      "KISS OF LIFE\n",
      "IVE (아이브)\n",
      "방탄소년단\n",
      "IVE (아이브)\n",
      "폴킴\n",
      "김민석\n",
      "로이킴\n",
      "PLAVE\n",
      "아일릿(ILLIT)\n",
      "PLAVE\n",
      "세븐틴 (SEVENTEEN)\n",
      "제니 (JENNIE)\n",
      "순순희(기태)\n",
      "aespa\n",
      "우디 (Woody)\n",
      "DK(디셈버)\n",
      "헤이즈 (Heize)\n",
      "방탄소년단\n",
      "Charlie Puth\n",
      "임한별\n",
      "세븐틴 (SEVENTEEN)\n",
      "폴킴\n",
      "경서예지, 전건호\n",
      "PLAVE\n",
      "도영 (DOYOUNG)\n",
      "IVE (아이브)\n",
      "AKMU (악뮤)\n",
      "순순희 (지환)\n",
      "세븐틴 (SEVENTEEN)\n",
      "Crush\n",
      "아이유\n"
     ]
    }
   ],
   "source": [
    "for i in singer :\n",
    "    print(i.text)"
   ]
  },
  {
   "cell_type": "markdown",
   "id": "b612627d-a7be-4408-b778-d2f141c7af4b",
   "metadata": {},
   "source": [
    "# 데이터 수집할 때 주의점!\n",
    "#### 1. req로 요청을 보냈을 때 406이 나오는 경우 => header데이터 추가하기 (브라우저인 척)\n",
    "#### 2. 선택자를 분석할 때는 반드시 명확한 구분자(id, class)가 있을 때까지 분석\n",
    "#### 3. 데이터의 개수가 정해진 경우에는 반드시 중간에 검증 작업을 할 것(데이터 개수, 데이터 중복여부)"
   ]
  },
  {
   "cell_type": "code",
   "execution_count": 28,
   "id": "3aa44bb3-8e13-4338-9d29-0c9c51326ff9",
   "metadata": {},
   "outputs": [],
   "source": [
    "# 2024/05/07 ////"
   ]
  },
  {
   "cell_type": "code",
   "execution_count": 48,
   "id": "5c5841f6-e576-4c8a-ae0a-2e0613566732",
   "metadata": {},
   "outputs": [],
   "source": [
    "# 순수한 텍스트 정보만 담아주는 로직\n",
    "titleList = []\n",
    "singerList = []\n",
    "rankList = []\n",
    "# 반복문을 통해서 텍스트 데이터만 저장하는 로직 작성하기\n",
    "for i in range(len(title)) :\n",
    "    titleList.append(title[i].text)\n",
    "    singerList.append(singer[i].text)\n",
    "    rankList.append(i+1)\n",
    "# len(title)을 넣어주면 효율적이고 반복된 단어의 코드를 줄이고 유지보수를 좋게 한다."
   ]
  },
  {
   "cell_type": "code",
   "execution_count": 49,
   "id": "09f2fe1e-736e-4156-8fe5-7eea364677a5",
   "metadata": {
    "scrolled": true
   },
   "outputs": [
    {
     "data": {
      "text/plain": [
       "['SPOT! (feat. JENNIE)',\n",
       " 'Magnetic',\n",
       " '해야 (HEYA)',\n",
       " '나는 아픈 건 딱 질색이니까',\n",
       " '고민중독',\n",
       " '미안해 미워해 사랑해',\n",
       " '첫 만남은 계획대로 되지 않아',\n",
       " '천상연',\n",
       " 'SHEESH',\n",
       " '밤양갱',\n",
       " 'Love wins all',\n",
       " '사랑은 늘 도망가',\n",
       " '예뻤어',\n",
       " 'MAESTRO',\n",
       " '한 페이지가 될 수 있게',\n",
       " '온기',\n",
       " '우리들의 블루스',\n",
       " '비의 랩소디',\n",
       " '모래 알갱이',\n",
       " 'Do or Die',\n",
       " '다시 만날 수 있을까',\n",
       " 'Home',\n",
       " 'To. X',\n",
       " 'EASY',\n",
       " '이제 나만 믿어요',\n",
       " 'Hype Boy',\n",
       " 'Polaroid',\n",
       " '그대만 있다면 (여름날 우리 X 너드커넥션 (Nerd Connection))',\n",
       " 'London Boy',\n",
       " '소나기',\n",
       " '무지개',\n",
       " 'Smart',\n",
       " '에피소드',\n",
       " '인생찬가',\n",
       " '헤어지자 말해요',\n",
       " 'I AM',\n",
       " '연애편지',\n",
       " 'Seven (feat. Latto) - Clean Ver.',\n",
       " 'ETA',\n",
       " 'Love 119',\n",
       " '파이팅 해야지 (Feat. 이영지)',\n",
       " 'Welcome to the Show',\n",
       " 'Super Shy',\n",
       " 'Perfect Night',\n",
       " 'Ditto',\n",
       " 'Drama',\n",
       " '손오공',\n",
       " 'WAY 4 LUV',\n",
       " '인사',\n",
       " '청춘찬가',\n",
       " '사랑인가 봐',\n",
       " '너의 모든 순간',\n",
       " '홀씨',\n",
       " 'MANIAC',\n",
       " '사막에서 꽃을 피우듯',\n",
       " '꿈',\n",
       " 'Impossible',\n",
       " 'Love Lee',\n",
       " '퀸카 (Queencard)',\n",
       " 'OMG',\n",
       " 'Get A Guitar',\n",
       " '주저하는 연인들을 위해',\n",
       " '보금자리',\n",
       " '우리 영화',\n",
       " '사건의 지평선',\n",
       " 'Siren',\n",
       " '어떻게 이별까지 사랑하겠어, 널 사랑하는 거지',\n",
       " 'Super Lady',\n",
       " 'Attention',\n",
       " 'Midas Touch',\n",
       " 'LOVE DIVE',\n",
       " '봄날',\n",
       " 'Baddie',\n",
       " '모든 날, 모든 순간 (Every day, Every Moment)',\n",
       " '취중고백',\n",
       " '잘 지내자, 우리 (여름날 우리 X 로이킴)',\n",
       " 'Watch Me Woo!',\n",
       " 'Lucky Girl Syndrome',\n",
       " 'From',\n",
       " '음악의 신',\n",
       " 'You & Me',\n",
       " '그대가 내 안에 박혔다(그내박)',\n",
       " 'Spicy',\n",
       " '혹시 세상에 혼자 남겨진 것 같다면',\n",
       " '심(心)',\n",
       " '멈춰줘',\n",
       " 'Dynamite',\n",
       " \"I Don't Think That I Like Her\",\n",
       " '사랑하지 않아서 그랬어',\n",
       " 'LALALI',\n",
       " '좋아해요',\n",
       " '다정히 내 이름을 부르면',\n",
       " '버추얼 아이돌',\n",
       " '반딧불 (Little Light)',\n",
       " 'Kitsch',\n",
       " '후라이의 꿈',\n",
       " '슬픈 초대장',\n",
       " 'Spell',\n",
       " 'By Your Side',\n",
       " 'Shopper']"
      ]
     },
     "execution_count": 49,
     "metadata": {},
     "output_type": "execute_result"
    }
   ],
   "source": [
    "titleList"
   ]
  },
  {
   "cell_type": "code",
   "execution_count": 50,
   "id": "4052b700-eefe-4c80-a661-4792e83e89a9",
   "metadata": {},
   "outputs": [],
   "source": [
    "# 수집한 데이터를 데이터 활용해보기\n",
    "# 1. 데이터프레임으로 시각화 \n",
    "import pandas as pd"
   ]
  },
  {
   "cell_type": "code",
   "execution_count": 1,
   "id": "37f9324b-77f0-40ae-bd7d-2ef6cd2438dc",
   "metadata": {},
   "outputs": [
    {
     "ename": "NameError",
     "evalue": "name 'rankList' is not defined",
     "output_type": "error",
     "traceback": [
      "\u001b[1;31m---------------------------------------------------------------------------\u001b[0m",
      "\u001b[1;31mNameError\u001b[0m                                 Traceback (most recent call last)",
      "Cell \u001b[1;32mIn[1], line 2\u001b[0m\n\u001b[0;32m      1\u001b[0m \u001b[38;5;66;03m# 데이터를 구분 지을 때 컬럼이 있냐 없냐로 객체 형태로 구분지음\u001b[39;00m\n\u001b[1;32m----> 2\u001b[0m dic \u001b[38;5;241m=\u001b[39m {\u001b[38;5;124m\"\u001b[39m\u001b[38;5;124m순위\u001b[39m\u001b[38;5;124m\"\u001b[39m:rankList, \u001b[38;5;124m\"\u001b[39m\u001b[38;5;124m가수\u001b[39m\u001b[38;5;124m\"\u001b[39m : singerList, \u001b[38;5;124m\"\u001b[39m\u001b[38;5;124m노래제목\u001b[39m\u001b[38;5;124m\"\u001b[39m : titleList}\n",
      "\u001b[1;31mNameError\u001b[0m: name 'rankList' is not defined"
     ]
    }
   ],
   "source": [
    "# 데이터를 구분 지을 때 컬럼이 있냐 없냐로 객체 형태로 구분지음\n",
    "dic = {\"순위\":rankList, \"가수\" : singerList, \"노래제목\" : titleList}\n",
    "  # 객체 : 다른 의미의 데이터\n",
    "  # 리스트(배열) : 같은 의미의 데이터"
   ]
  },
  {
   "cell_type": "code",
   "execution_count": 52,
   "id": "b2ccca32-97b3-4d28-b081-31bfb3074a9f",
   "metadata": {},
   "outputs": [],
   "source": [
    "melon = pd.DataFrame(dic)"
   ]
  },
  {
   "cell_type": "code",
   "execution_count": 53,
   "id": "0b56d71e-58a6-41e3-ab80-d6af4a6fc95d",
   "metadata": {},
   "outputs": [],
   "source": [
    "# 데이터프레임을 CSV확장자 파일로 저장\n",
    "# 한글을 저장할 때는 반드시 인코딩 작업이 필수!\n",
    "# utf-8, euc-kr, utf-8-sig\n",
    "# 멜론이라는 걸 csv라는 형태로 저장해줘 멜론차트라는 것으로 만들건데 확장자는 csv야\n",
    "# to : ~로\n",
    "# encoding=\"euckr : 한글로 번역\n",
    "melon.to_csv(\"멜론차트.csv\",encoding=\"euc-kr\")"
   ]
  },
  {
   "cell_type": "code",
   "execution_count": 54,
   "id": "cf02d9d3-f434-4ebe-9c2a-62f526a1d14e",
   "metadata": {},
   "outputs": [],
   "source": [
    "# 인덱스 대신에 순위컬럼 제장해서 인덱스 자리를 대체\n",
    "melon.set_index(\"순위\", inplace = True)"
   ]
  },
  {
   "cell_type": "code",
   "execution_count": 55,
   "id": "0278ae46-002e-4e2a-baa6-3750079b93a3",
   "metadata": {},
   "outputs": [
    {
     "data": {
      "text/html": [
       "<div>\n",
       "<style scoped>\n",
       "    .dataframe tbody tr th:only-of-type {\n",
       "        vertical-align: middle;\n",
       "    }\n",
       "\n",
       "    .dataframe tbody tr th {\n",
       "        vertical-align: top;\n",
       "    }\n",
       "\n",
       "    .dataframe thead th {\n",
       "        text-align: right;\n",
       "    }\n",
       "</style>\n",
       "<table border=\"1\" class=\"dataframe\">\n",
       "  <thead>\n",
       "    <tr style=\"text-align: right;\">\n",
       "      <th></th>\n",
       "      <th>가수</th>\n",
       "      <th>노래제목</th>\n",
       "    </tr>\n",
       "    <tr>\n",
       "      <th>순위</th>\n",
       "      <th></th>\n",
       "      <th></th>\n",
       "    </tr>\n",
       "  </thead>\n",
       "  <tbody>\n",
       "    <tr>\n",
       "      <th>1</th>\n",
       "      <td>지코 (ZICO)</td>\n",
       "      <td>SPOT! (feat. JENNIE)</td>\n",
       "    </tr>\n",
       "    <tr>\n",
       "      <th>2</th>\n",
       "      <td>아일릿(ILLIT)</td>\n",
       "      <td>Magnetic</td>\n",
       "    </tr>\n",
       "    <tr>\n",
       "      <th>3</th>\n",
       "      <td>IVE (아이브)</td>\n",
       "      <td>해야 (HEYA)</td>\n",
       "    </tr>\n",
       "    <tr>\n",
       "      <th>4</th>\n",
       "      <td>(여자)아이들</td>\n",
       "      <td>나는 아픈 건 딱 질색이니까</td>\n",
       "    </tr>\n",
       "    <tr>\n",
       "      <th>5</th>\n",
       "      <td>QWER</td>\n",
       "      <td>고민중독</td>\n",
       "    </tr>\n",
       "    <tr>\n",
       "      <th>...</th>\n",
       "      <td>...</td>\n",
       "      <td>...</td>\n",
       "    </tr>\n",
       "    <tr>\n",
       "      <th>96</th>\n",
       "      <td>AKMU (악뮤)</td>\n",
       "      <td>후라이의 꿈</td>\n",
       "    </tr>\n",
       "    <tr>\n",
       "      <th>97</th>\n",
       "      <td>순순희 (지환)</td>\n",
       "      <td>슬픈 초대장</td>\n",
       "    </tr>\n",
       "    <tr>\n",
       "      <th>98</th>\n",
       "      <td>세븐틴 (SEVENTEEN)</td>\n",
       "      <td>Spell</td>\n",
       "    </tr>\n",
       "    <tr>\n",
       "      <th>99</th>\n",
       "      <td>Crush</td>\n",
       "      <td>By Your Side</td>\n",
       "    </tr>\n",
       "    <tr>\n",
       "      <th>100</th>\n",
       "      <td>아이유</td>\n",
       "      <td>Shopper</td>\n",
       "    </tr>\n",
       "  </tbody>\n",
       "</table>\n",
       "<p>100 rows × 2 columns</p>\n",
       "</div>"
      ],
      "text/plain": [
       "                  가수                  노래제목\n",
       "순위                                        \n",
       "1          지코 (ZICO)  SPOT! (feat. JENNIE)\n",
       "2         아일릿(ILLIT)              Magnetic\n",
       "3          IVE (아이브)             해야 (HEYA)\n",
       "4            (여자)아이들       나는 아픈 건 딱 질색이니까\n",
       "5               QWER                  고민중독\n",
       "..               ...                   ...\n",
       "96         AKMU (악뮤)                후라이의 꿈\n",
       "97          순순희 (지환)                슬픈 초대장\n",
       "98   세븐틴 (SEVENTEEN)                 Spell\n",
       "99             Crush          By Your Side\n",
       "100              아이유               Shopper\n",
       "\n",
       "[100 rows x 2 columns]"
      ]
     },
     "execution_count": 55,
     "metadata": {},
     "output_type": "execute_result"
    }
   ],
   "source": [
    "melon"
   ]
  },
  {
   "cell_type": "code",
   "execution_count": null,
   "id": "4d00bb6c-2af6-41c4-81ba-b0c1c6e8698b",
   "metadata": {},
   "outputs": [],
   "source": [
    "# 데이터베이스에 csv 파일을 저장할 때 주의할 점!\n",
    "# 1) 반드시 컬럼의 이름과 개수가 같아야한다.\n",
    "# 2) 컬럼의 데이터 타입도 같아야한다.\n",
    "# 3) 데이터 길이 문제 ex) varchar(20)"
   ]
  },
  {
   "cell_type": "code",
   "execution_count": null,
   "id": "49394105-44eb-4b0f-a3e4-296f2dc07105",
   "metadata": {},
   "outputs": [],
   "source": []
  },
  {
   "cell_type": "code",
   "execution_count": null,
   "id": "239a571c-34f5-4975-83cc-b43d1031ad81",
   "metadata": {},
   "outputs": [],
   "source": []
  },
  {
   "cell_type": "code",
   "execution_count": null,
   "id": "d53f1785-e354-45ba-a5e3-dc9b01f259ea",
   "metadata": {},
   "outputs": [],
   "source": []
  },
  {
   "cell_type": "code",
   "execution_count": null,
   "id": "b181a828-0c87-450b-aec4-2cd3e60ad6d2",
   "metadata": {},
   "outputs": [],
   "source": []
  },
  {
   "cell_type": "code",
   "execution_count": null,
   "id": "82aa4dbd-2023-4f70-a97d-6c4265c5e0e4",
   "metadata": {},
   "outputs": [],
   "source": []
  },
  {
   "cell_type": "code",
   "execution_count": null,
   "id": "45e36d23-8134-4bf3-88c6-9a1e36ed9fd7",
   "metadata": {},
   "outputs": [],
   "source": []
  },
  {
   "cell_type": "code",
   "execution_count": null,
   "id": "5561dccb-4a61-42f5-a87c-81b43dd6e186",
   "metadata": {},
   "outputs": [],
   "source": []
  },
  {
   "cell_type": "code",
   "execution_count": null,
   "id": "8592a4a7-2a7c-4e16-b946-72b43a0c86c1",
   "metadata": {},
   "outputs": [],
   "source": []
  },
  {
   "cell_type": "code",
   "execution_count": null,
   "id": "4723c319-5472-44f6-a6e2-8418f2a69a9a",
   "metadata": {},
   "outputs": [],
   "source": []
  },
  {
   "cell_type": "code",
   "execution_count": null,
   "id": "3aef6e6d-8b7f-4268-b17f-24540848c5c9",
   "metadata": {},
   "outputs": [],
   "source": []
  },
  {
   "cell_type": "code",
   "execution_count": null,
   "id": "3f103989-cdaa-444c-a3d6-cca7723a35cd",
   "metadata": {},
   "outputs": [],
   "source": []
  },
  {
   "cell_type": "code",
   "execution_count": null,
   "id": "a19c4490-8661-44a6-b23d-2626d993d52f",
   "metadata": {},
   "outputs": [],
   "source": []
  },
  {
   "cell_type": "code",
   "execution_count": null,
   "id": "c08f9206-bd5c-46e6-ac5d-0209f52290fd",
   "metadata": {},
   "outputs": [],
   "source": []
  },
  {
   "cell_type": "code",
   "execution_count": null,
   "id": "3a0d393c-3c5e-4808-a6f6-def9d7069a43",
   "metadata": {},
   "outputs": [],
   "source": []
  }
 ],
 "metadata": {
  "kernelspec": {
   "display_name": "Python 3 (ipykernel)",
   "language": "python",
   "name": "python3"
  },
  "language_info": {
   "codemirror_mode": {
    "name": "ipython",
    "version": 3
   },
   "file_extension": ".py",
   "mimetype": "text/x-python",
   "name": "python",
   "nbconvert_exporter": "python",
   "pygments_lexer": "ipython3",
   "version": "3.11.7"
  }
 },
 "nbformat": 4,
 "nbformat_minor": 5
}
