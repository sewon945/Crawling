{
 "cells": [
  {
   "cell_type": "markdown",
   "id": "453c6fdf-fa72-4408-ae14-c0663ec62097",
   "metadata": {},
   "source": [
    "# 이번 예제에서 학습할 내용\n",
    "1. 여러 페이지를 이동\n",
    "   - 접근이 불가능한 사이트 존재\n",
    "2. 독특한 선택자 등장"
   ]
  },
  {
   "cell_type": "code",
   "execution_count": 1,
   "id": "b751c3fe-e260-4263-bd1e-22b2d5fa4127",
   "metadata": {},
   "outputs": [],
   "source": [
    "from selenium import webdriver as wb\n",
    "from selenium.webdriver.common.by import By\n",
    "from selenium.webdriver.common.keys import Keys\n",
    "import time"
   ]
  },
  {
   "cell_type": "code",
   "execution_count": 79,
   "id": "18af6a67-f151-4fe8-ade0-f0e9e2bf9f25",
   "metadata": {},
   "outputs": [],
   "source": [
    "# 1. 사이트 -> 이동\n",
    "driver = wb.Chrome()\n",
    "driver.get(\"https://map.naver.com/p\")\n",
    "driver.maximize_window()"
   ]
  },
  {
   "cell_type": "code",
   "execution_count": 80,
   "id": "73955e2d-ea3c-4441-9771-6d08f050ddd2",
   "metadata": {},
   "outputs": [],
   "source": [
    "# 2. 검색창에 동명동맛집 -> 엔터\n",
    "# #input_search1715669435046 이것은 뒤에 숫자가 창을 닫고 다시 들어올 때마다 바뀜 -> 계층으로 위의 부모를 보기(class는 바뀔 일이 거의 없다)\n",
    "search = driver.find_element(By.CSS_SELECTOR, \"input.input_search\")\n",
    "search.send_keys(\"동명동맛집\")\n",
    "search.send_keys(Keys.ENTER)"
   ]
  },
  {
   "cell_type": "code",
   "execution_count": 81,
   "id": "b349d771-0e42-43e8-80d6-f525a807fd09",
   "metadata": {},
   "outputs": [],
   "source": [
    "# selenium에서 iframe으로 접근하는 방법 -> src 사용하는 게 아님\n",
    "# req 할 때는 src 경로 활용\n",
    "# 브라우저야 변경 할 건데 아이프레임으로 변경(이동)해\n",
    "driver.switch_to.frame(\"searchIframe\")"
   ]
  },
  {
   "cell_type": "code",
   "execution_count": 83,
   "id": "5ee4ff27-46a6-4e92-972e-0e70924d19b6",
   "metadata": {},
   "outputs": [],
   "source": [
    "# 3. 가게이름 수집 -> 첫 번째 가게 클릭\n",
    "# 검색결과가 iframe에 담겨있다.\n",
    "title = driver.find_elements(By.CSS_SELECTOR, \"#_pcmap_list_scroll_container > ul > li > div.CHC5F > a > div > div\")"
   ]
  },
  {
   "cell_type": "code",
   "execution_count": 84,
   "id": "766597ab-5e9d-4b50-8bcf-7c03c9bec04d",
   "metadata": {},
   "outputs": [],
   "source": [
    "title[0].click()"
   ]
  },
  {
   "cell_type": "code",
   "execution_count": 87,
   "id": "9d7768c0-fa7a-48df-926d-1fb8b90c4e8f",
   "metadata": {},
   "outputs": [],
   "source": [
    "# 새로운 iframe으로 이동\n",
    "# 서로 모르는 관계이기 때문에 iframe에서 다른 iframe으로 직접 이동 불가능 => 다시 원본으로 갔다가 새로운 iframe으로 이동\n",
    "driver.switch_to.default_content()   # 원본으로 가기(원본은 iframe이 될 수 없다) - 원본데이터 : default_content\n",
    "driver.switch_to.frame(\"entryIframe\")    # 원본에서 iframe으로 가기"
   ]
  },
  {
   "cell_type": "code",
   "execution_count": 88,
   "id": "1f25d95e-68c8-4591-8072-08351b5d5f9c",
   "metadata": {},
   "outputs": [
    {
     "data": {
      "text/plain": [
       "<selenium.webdriver.remote.webelement.WebElement (session=\"ccab0763ce76c2affea6b104daa3fcd3\", element=\"f.6B732835A3D70AF564C3E6F096419368.d.2F30DB217F7A0DD65A92319783C7C608.e.178\")>"
      ]
     },
     "execution_count": 88,
     "metadata": {},
     "output_type": "execute_result"
    }
   ],
   "source": [
    "# 4. 상세페이지의 가게 이름 수집\n",
    "driver.find_element(By.CSS_SELECTOR, \"#_title > div > span.GHAhO\")"
   ]
  },
  {
   "cell_type": "markdown",
   "id": "bc90f84d-7816-4109-8b6e-b65591a33d12",
   "metadata": {
    "jp-MarkdownHeadingCollapsed": true
   },
   "source": [
    "# selenium에서 iframe 처리하기\n",
    "- 원본데이터에서 iframe 데이터로 접근이 불가능하다\n",
    "- driver.switch_to.frame(\"프레임 id\") 이동 후 수집이 가능하다\n",
    "- iframe에서 다른 iframe으로 가려면 반드시 원본을 들렸다가 가야한다\n",
    "- 원본을 가는 방식 => driver.switch_to.default_content() -> 새로운 프레임으로 이동\n",
    "- 데이터가 수집이 안되는 경우 크게 3가지 +1가지\n",
    "    1) 네트워크가 좋지 않을 때\n",
    "       - time을 추가해서 로딩 시간을 늘리자\n",
    "    2) 선택자가 틀렸을 때\n",
    "       - nth-child, id를 잘 지웠나 체크\n",
    "    3) iframe을 검사해라\n",
    "       - 상당히 자주 등장\n",
    "    4) 클릭, 동작이 작동하지 않은 경우 -> 선택자를 전체 범위로 넓혀라\n",
    "       - ex) 오류코드에 locate, (x , y)좌표, uninteractable 등의 오류코드가 나올 때"
   ]
  },
  {
   "cell_type": "markdown",
   "id": "d1381e2b-0618-452d-ae97-c74b51c0c764",
   "metadata": {},
   "source": [
    "## 셀레니움(selenium)을 쓸 때 접근이 불가능한 사이트(쿠팡, 로그인 관련 사이트)\n",
    "- undetected-chromedriver : 일반 사용자가 사용하는 크롬창 실행된다\n",
    "- 보완이 강화된 사이트에 접근할 때 시도해 볼 것!\n",
    "- 즉, 셀레니움으로 접근 불가능한 사이트를 접근하는 방식\n",
    "  - 이걸 사용하면 Chrome이 자동화된 테스트 소프트웨어에 의해 제어되고 있습니다. 라는 문구가 사라짐"
   ]
  },
  {
   "cell_type": "code",
   "execution_count": 89,
   "id": "3810cbb7-be8c-45c2-b50c-e7ad42bc0837",
   "metadata": {
    "scrolled": true
   },
   "outputs": [
    {
     "name": "stdout",
     "output_type": "stream",
     "text": [
      "Requirement already satisfied: undetected-chromedriver in c:\\users\\ggg\\anaconda3\\lib\\site-packages (3.5.5)\n",
      "Requirement already satisfied: selenium>=4.9.0 in c:\\users\\ggg\\anaconda3\\lib\\site-packages (from undetected-chromedriver) (4.20.0)\n",
      "Requirement already satisfied: requests in c:\\users\\ggg\\anaconda3\\lib\\site-packages (from undetected-chromedriver) (2.31.0)\n",
      "Requirement already satisfied: websockets in c:\\users\\ggg\\anaconda3\\lib\\site-packages (from undetected-chromedriver) (12.0)\n",
      "Requirement already satisfied: urllib3<3,>=1.26 in c:\\users\\ggg\\anaconda3\\lib\\site-packages (from urllib3[socks]<3,>=1.26->selenium>=4.9.0->undetected-chromedriver) (2.0.7)\n",
      "Requirement already satisfied: trio~=0.17 in c:\\users\\ggg\\anaconda3\\lib\\site-packages (from selenium>=4.9.0->undetected-chromedriver) (0.25.0)\n",
      "Requirement already satisfied: trio-websocket~=0.9 in c:\\users\\ggg\\anaconda3\\lib\\site-packages (from selenium>=4.9.0->undetected-chromedriver) (0.11.1)\n",
      "Requirement already satisfied: certifi>=2021.10.8 in c:\\users\\ggg\\anaconda3\\lib\\site-packages (from selenium>=4.9.0->undetected-chromedriver) (2024.2.2)\n",
      "Requirement already satisfied: typing_extensions>=4.9.0 in c:\\users\\ggg\\anaconda3\\lib\\site-packages (from selenium>=4.9.0->undetected-chromedriver) (4.9.0)\n",
      "Requirement already satisfied: charset-normalizer<4,>=2 in c:\\users\\ggg\\anaconda3\\lib\\site-packages (from requests->undetected-chromedriver) (2.0.4)\n",
      "Requirement already satisfied: idna<4,>=2.5 in c:\\users\\ggg\\anaconda3\\lib\\site-packages (from requests->undetected-chromedriver) (3.4)\n",
      "Requirement already satisfied: attrs>=23.2.0 in c:\\users\\ggg\\anaconda3\\lib\\site-packages (from trio~=0.17->selenium>=4.9.0->undetected-chromedriver) (23.2.0)\n",
      "Requirement already satisfied: sortedcontainers in c:\\users\\ggg\\anaconda3\\lib\\site-packages (from trio~=0.17->selenium>=4.9.0->undetected-chromedriver) (2.4.0)\n",
      "Requirement already satisfied: outcome in c:\\users\\ggg\\anaconda3\\lib\\site-packages (from trio~=0.17->selenium>=4.9.0->undetected-chromedriver) (1.3.0.post0)\n",
      "Requirement already satisfied: sniffio>=1.3.0 in c:\\users\\ggg\\anaconda3\\lib\\site-packages (from trio~=0.17->selenium>=4.9.0->undetected-chromedriver) (1.3.0)\n",
      "Requirement already satisfied: cffi>=1.14 in c:\\users\\ggg\\anaconda3\\lib\\site-packages (from trio~=0.17->selenium>=4.9.0->undetected-chromedriver) (1.16.0)\n",
      "Requirement already satisfied: wsproto>=0.14 in c:\\users\\ggg\\anaconda3\\lib\\site-packages (from trio-websocket~=0.9->selenium>=4.9.0->undetected-chromedriver) (1.2.0)\n",
      "Requirement already satisfied: pysocks!=1.5.7,<2.0,>=1.5.6 in c:\\users\\ggg\\anaconda3\\lib\\site-packages (from urllib3[socks]<3,>=1.26->selenium>=4.9.0->undetected-chromedriver) (1.7.1)\n",
      "Requirement already satisfied: pycparser in c:\\users\\ggg\\anaconda3\\lib\\site-packages (from cffi>=1.14->trio~=0.17->selenium>=4.9.0->undetected-chromedriver) (2.21)\n",
      "Requirement already satisfied: h11<1,>=0.9.0 in c:\\users\\ggg\\anaconda3\\lib\\site-packages (from wsproto>=0.14->trio-websocket~=0.9->selenium>=4.9.0->undetected-chromedriver) (0.14.0)\n",
      "Note: you may need to restart the kernel to use updated packages.\n"
     ]
    }
   ],
   "source": [
    "pip install undetected-chromedriver"
   ]
  },
  {
   "cell_type": "code",
   "execution_count": 90,
   "id": "15d134b1-c7b7-48d1-ac84-9a56bb8e73f3",
   "metadata": {},
   "outputs": [],
   "source": [
    "import undetected_chromedriver as uc"
   ]
  },
  {
   "cell_type": "code",
   "execution_count": 91,
   "id": "9a3e57c0-7dd3-49ca-b0ac-d34a02a3df85",
   "metadata": {},
   "outputs": [
    {
     "data": {
      "text/plain": [
       "<undetected_chromedriver.Chrome (session=\"dda6ba2ca2b0d2e33088cbd817d40c34\")>"
      ]
     },
     "execution_count": 91,
     "metadata": {},
     "output_type": "execute_result"
    }
   ],
   "source": [
    "uc.Chrome()"
   ]
  }
 ],
 "metadata": {
  "kernelspec": {
   "display_name": "Python 3 (ipykernel)",
   "language": "python",
   "name": "python3"
  },
  "language_info": {
   "codemirror_mode": {
    "name": "ipython",
    "version": 3
   },
   "file_extension": ".py",
   "mimetype": "text/x-python",
   "name": "python",
   "nbconvert_exporter": "python",
   "pygments_lexer": "ipython3",
   "version": "3.11.7"
  }
 },
 "nbformat": 4,
 "nbformat_minor": 5
}
