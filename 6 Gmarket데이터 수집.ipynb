{
 "cells": [
  {
   "cell_type": "markdown",
   "id": "5647b157-e2ba-4571-8a2b-b4ffa45f61ec",
   "metadata": {},
   "source": [
    "# 이번 예제 학습내용\n",
    "1. 동적 페이지 수집 방법\n",
    "   - 사람답게 코드를 짠다 => time기능을 잘 사용하는 방법\n",
    "2. 반복문 작성할 때 오류 없이 쉽게 작성하는 방법\n",
    "3. 예외처리 학습\n",
    "   - 데이터 수집에서의 예외처리"
   ]
  },
  {
   "cell_type": "code",
   "execution_count": 1,
   "id": "8c504d90-b61e-41eb-a3be-221ecde65263",
   "metadata": {},
   "outputs": [],
   "source": [
    "# selenium을 import할 때에는 세 가지 기본\n",
    "from selenium import webdriver as wb\n",
    "from selenium.webdriver.common.by import By\n",
    "import time"
   ]
  },
  {
   "cell_type": "code",
   "execution_count": 2,
   "id": "9675b8a1-2652-4d4f-8d61-d43430eedf6a",
   "metadata": {},
   "outputs": [],
   "source": [
    "# 1. 브라우저 실행 -> Gmarket베스트 사이트 이동 -> 화면 최대화\n",
    "driver = wb.Chrome()\n",
    "driver.get(\"https://www.gmarket.co.kr/n/best\")\n",
    "driver.maximize_window()"
   ]
  },
  {
   "cell_type": "code",
   "execution_count": 10,
   "id": "2f1abdcb-732f-4c19-87c7-3d460521bac3",
   "metadata": {},
   "outputs": [],
   "source": [
    "# 2. img태그들 수집 후 -> 첫 번째 이미지 태그 클릭 -> 첫 번째 상품의 상세 페이지 이동\n",
    "# 선택자를 수정할 때 - 맨 앞에 아이디 값은 영역을 의미한다 => nth-child() 제거가 다수  \n",
    "# id는 영역 - 단수개인 nth-child(1)가 있어서 먼저 그걸 지웠기 때문에 id는 중간에 best상품의 영역이기에\n",
    "img = driver.find_elements(By.CSS_SELECTOR, \"#gBestWrap > div.best-list > ul > li > div.thumb > a > img\")\n",
    "# 첫 번째 상품을 클릭해서 들어갈게요\n",
    "img[0].click()"
   ]
  },
  {
   "cell_type": "code",
   "execution_count": 16,
   "id": "b1f74fd4-34b7-4a38-aa0b-8841d9e7268f",
   "metadata": {},
   "outputs": [],
   "source": [
    "# 3. 상세 페이지에서 상품이름, 상품가격 (쿠폰적용가)\n",
    "titleList = []\n",
    "priceList = []\n",
    "\n",
    "# 요소(element) 수집 코드\n",
    "title = driver.find_element(By.CSS_SELECTOR, \"#itemcase_basic > div.box__item-title > h1\")\n",
    "price = driver.find_element(By.CSS_SELECTOR, \"#itemcase_basic > div.box__item-title > div.price > span.price_innerwrap.price_innerwrap-coupon > strong\")\n",
    "\n",
    "# 텍스트 추출 코드\n",
    "titleList.append(title.text)\n",
    "priceList.append(price.text)\n",
    "\n",
    "# 코드 영역을 지어주면 나중에 수정할 때나 유지보수 할 때 누구나 쉽게 볼 수 있도록 한다"
   ]
  },
  {
   "cell_type": "code",
   "execution_count": 17,
   "id": "3f706d53-5b4b-47c7-a704-252ba9e14323",
   "metadata": {},
   "outputs": [],
   "source": [
    "# 4. 페이지 뒤로가기\n",
    "driver.back()"
   ]
  },
  {
   "cell_type": "code",
   "execution_count": 22,
   "id": "ed7f55e6-70dd-4778-82e1-86195668cd4a",
   "metadata": {},
   "outputs": [],
   "source": [
    "# 5. 반복문 통해서 코드를 10번 반복\n",
    "# 페이지 전체 깜빡 - \n",
    "titleList = []    # 이걸 for문 안에 쓰면 계속 초기화됨\n",
    "priceList = []\n",
    "for i in range(10) :\n",
    "    # 페이지가 변하기 때문에 반드시 태그를 다시 찾아야한다\n",
    "    img = driver.find_elements(By.CSS_SELECTOR, \"#gBestWrap > div.best-list > ul > li > div.thumb > a > img\")\n",
    "    img[i].click()\n",
    "    # 클릭한 다음에 새로운 페이지를 주려면 잠깐 쉬어주기(컴퓨터도 로딩할 시간 필요)\n",
    "    time.sleep(1)\n",
    "    title = driver.find_element(By.CSS_SELECTOR, \"#itemcase_basic > div.box__item-title > h1\")\n",
    "    # 쿠폰적용가격이 없을 경우의 예외처리\n",
    "    try : \n",
    "        # 쿠폰가격 수집\n",
    "        price = driver.find_element(By.CSS_SELECTOR, \"#itemcase_basic > div.box__item-title > div.price > span.price_innerwrap.price_innerwrap-coupon > strong\")\n",
    "    except :\n",
    "        # 일반가격 수집 데이터 넣기, 품절도 여기에 넣어주기(일반가격은 모든 제품에 다 있기 때문에 일반가격을 except에 넣기 안그러면 쿠폰가격이 아닌 일반가격으로 돌기때문에 계속 실행된다)\n",
    "        price = driver.find_element(By.CSS_SELECTOR, \"#itemcase_basic > div.box__item-title > div.price > span.price_innerwrap > strong\")\n",
    "    titleList.append(title.text)\n",
    "    priceList.append(price.text)\n",
    "    driver.back()\n",
    "    time.sleep(1)"
   ]
  },
  {
   "cell_type": "code",
   "execution_count": null,
   "id": "730fbe63-7e21-48da-ab6e-ed59347bd88f",
   "metadata": {},
   "outputs": [],
   "source": []
  },
  {
   "cell_type": "code",
   "execution_count": null,
   "id": "3acadf68-dd89-4b1a-8bad-6149df34f794",
   "metadata": {},
   "outputs": [],
   "source": []
  },
  {
   "cell_type": "code",
   "execution_count": null,
   "id": "40727fff-b21c-45ee-9b12-a7230e36ff73",
   "metadata": {},
   "outputs": [],
   "source": []
  },
  {
   "cell_type": "code",
   "execution_count": null,
   "id": "c3f91ed0-63f7-4c48-a94c-664ed4a45a80",
   "metadata": {},
   "outputs": [],
   "source": []
  }
 ],
 "metadata": {
  "kernelspec": {
   "display_name": "Python 3 (ipykernel)",
   "language": "python",
   "name": "python3"
  },
  "language_info": {
   "codemirror_mode": {
    "name": "ipython",
    "version": 3
   },
   "file_extension": ".py",
   "mimetype": "text/x-python",
   "name": "python",
   "nbconvert_exporter": "python",
   "pygments_lexer": "ipython3",
   "version": "3.11.7"
  }
 },
 "nbformat": 4,
 "nbformat_minor": 5
}
