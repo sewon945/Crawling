{
 "cells": [
  {
   "cell_type": "code",
   "execution_count": 1,
   "id": "ca91e68e-1f2b-45b0-b7df-b88b10a15afa",
   "metadata": {},
   "outputs": [],
   "source": [
    "from selenium import webdriver as wb\n",
    "from selenium.webdriver.common.by import By\n",
    "import pandas as pd"
   ]
  },
  {
   "cell_type": "code",
   "execution_count": 2,
   "id": "acc1d340-6abb-443e-9154-6937623efe72",
   "metadata": {},
   "outputs": [],
   "source": [
    "# 1. 브라우저를 실행하고 한솥사이트로 이동\n",
    "driver = wb.Chrome()\n",
    "driver.get(\"https://www.hsd.co.kr/menu/menu_list\")"
   ]
  },
  {
   "cell_type": "code",
   "execution_count": 3,
   "id": "2f6b759d-f38d-437d-95d9-203f436d68c1",
   "metadata": {},
   "outputs": [],
   "source": [
    "# 2. 브라우저의 크기를 최대 크기로 변경\n",
    "driver.maximize_window()"
   ]
  },
  {
   "cell_type": "code",
   "execution_count": 4,
   "id": "0819d884-9ae2-464b-91ac-cf203995c528",
   "metadata": {},
   "outputs": [],
   "source": [
    "# 3. 상품이름, 상품가격 수집 (단수개를 의미하는 id 지우기 #menuList_552 > )\n",
    "# 개발자 도구에서 요소를 검사할 때 반드시 화면과 선택한 태그가 일치하는지 확인해볼 것!!\n",
    "# 일치하지 않다면 주변 다른 태그들을 분석해서 원하는 요소를 찾기!\n",
    "title = driver.find_elements(By.CSS_SELECTOR,\"div > div.item-text > h4\")"
   ]
  },
  {
   "cell_type": "code",
   "execution_count": 5,
   "id": "fcdcb8b0-0625-4075-9401-ec74299c4f63",
   "metadata": {},
   "outputs": [],
   "source": [
    "# 상품가격\n",
    "price = driver.find_elements(By.CSS_SELECTOR,\"div > div.item-text > div\")"
   ]
  },
  {
   "cell_type": "code",
   "execution_count": 6,
   "id": "0c6f775a-2141-4c6d-b703-3cd766496d16",
   "metadata": {},
   "outputs": [
    {
     "data": {
      "text/plain": [
       "69"
      ]
     },
     "execution_count": 6,
     "metadata": {},
     "output_type": "execute_result"
    }
   ],
   "source": [
    "len(title)"
   ]
  },
  {
   "cell_type": "code",
   "execution_count": 7,
   "id": "86931c65-3d94-44b0-85ad-45730da3290c",
   "metadata": {
    "scrolled": true
   },
   "outputs": [],
   "source": [
    "# 4. 더보기 버튼을 클릭해서 모든 데이터를 로딩받기\n",
    "# (더이상) 버튼이 없는 경우에는 오류가 발생함 -> 코드를 통합할 때 밑에 코드가 동직을 안함\n",
    "# 예외처리가 필요하다 => 오류가 나기 전까지 코드를 실행하다가 오류가 나면 멈추지 않고 다른 코드가 동작\n",
    "btn = driver.find_element(By.CSS_SELECTOR,\"#btn_more > span > a\")\n",
    "btn.click()"
   ]
  },
  {
   "cell_type": "code",
   "execution_count": 8,
   "id": "4e246233-b86b-46fe-b7e5-8b2f922828fb",
   "metadata": {},
   "outputs": [],
   "source": [
    "# 컴퓨터에게 시간을 부여할 때 사용하는 라이브러리\n",
    "#  -> 너무 빠르게 요청해버리면 서버가 올바르지 않는 응답하기 때문에\n",
    "import time"
   ]
  },
  {
   "cell_type": "code",
   "execution_count": 9,
   "id": "5c223a9d-870e-45ad-9148-00f285a9c6fe",
   "metadata": {},
   "outputs": [
    {
     "name": "stdout",
     "output_type": "stream",
     "text": [
      "더보기 완료\n"
     ]
    }
   ],
   "source": [
    "# 더보기를 반복해서 실행하는 로직\n",
    "# 예외처리 try, except\n",
    "try : \n",
    "    for i in range(10) :\n",
    "        btn = driver.find_element(By.CSS_SELECTOR,\"#btn_more > span > a\")\n",
    "        btn.click()\n",
    "        # 잠깐 잠들어!라는 명령어 주기 : sleep(초 단위) - 처음엔 0.5초나 1초부터 시작하기\n",
    "        time.sleep(1)\n",
    "except :\n",
    "    print(\"더보기 완료\")"
   ]
  },
  {
   "cell_type": "markdown",
   "id": "d91eaa65-b753-4a38-b8fc-118799d0ad62",
   "metadata": {},
   "source": [
    "# 예외처리 할 때 주의점\n",
    "1. 동작에 관련된 예외처리 (더보기 버튼) -> 에러가 나면 그냥 출력문을 통해서 넘어가도 상관없음\n",
    "2. 데이터를 수집할 때는 반드시 에러가 나는 부분에 **null, 없음, 0** 등과 같은 다른 데이터를 넣어줘야한다.\n",
    "     - 데이터의 개수가 다르면 표, DB, 파일로 제작할 때 오류 발생 -> 데이터의 개수가 다르기 때문에"
   ]
  },
  {
   "cell_type": "code",
   "execution_count": 10,
   "id": "50431bb9-0aab-461d-b233-5fddfdcd2507",
   "metadata": {},
   "outputs": [],
   "source": [
    "# 예외처리\n",
    "# rate_list = []\n",
    "\n",
    "# for i in rate\n",
    "#    rate = driver.find_element(By.CSS_SELECTOR,\"?\")\n",
    "#    try : \n",
    "#        rate_list.append(i.text)\n",
    "#    except :\n",
    "#        rate_list.append(\"없음\")"
   ]
  },
  {
   "cell_type": "code",
   "execution_count": 11,
   "id": "1699928a-424f-43a0-b83d-b6ca35cb45e1",
   "metadata": {},
   "outputs": [
    {
     "name": "stdout",
     "output_type": "stream",
     "text": [
      "더보기 완료\n"
     ]
    }
   ],
   "source": [
    "# 코드 통합 하기\n",
    "# 코드의 중간중간 time.sleep()이 필요하다 -> why? 로딩 받는 시간이 필요해서\n",
    "# 언제 필요하냐? 클라이언트가 서버에게 요청과 응답을 할 때마다 시간을 부여한다.(time.sleep()의 목적)\n",
    "\n",
    "# 창 켜기(페이지 가져오기)\n",
    "driver = wb.Chrome()\n",
    "driver.get(\"https://www.hsd.co.kr/menu/menu_list\")\n",
    "time.sleep(1)    # 잠깐 쉬어주기\n",
    "driver.maximize_window()\n",
    "\n",
    "# 로딩(더보기) 완료\n",
    "try : \n",
    "    for i in range(10) :\n",
    "        btn = driver.find_element(By.CSS_SELECTOR,\"#btn_more > span > a\")\n",
    "        btn.click()\n",
    "        # 잠깐 잠들어!라는 명령어 주기 : sleep(초 단위)\n",
    "        time.sleep(1)\n",
    "except :\n",
    "    print(\"더보기 완료\")\n",
    "    \n",
    "# 데이터(요소) 수집\n",
    "title = driver.find_elements(By.CSS_SELECTOR,\"div > div.item-text > h4\")\n",
    "price = driver.find_elements(By.CSS_SELECTOR,\"div > div.item-text > div\")\n",
    "# time.sleep() 필요없다   why? 서버에 영향을 주지 않기 때문에\n",
    "\n",
    "# 텍스트 추출 - 비어있는 공간에 글자 데이터 수집\n",
    "titleList = []\n",
    "priceList = []\n",
    "for i in range(len(title)) :\n",
    "    titleList.append(title[i].text)\n",
    "    priceList.append(price[i].text)\n",
    "\n",
    "# 표 만들기(import에 pandas 먼저 넣어주고 오기)\n",
    "dic = {\"상품이름\" : titleList, \"가격정보\" : priceList}\n",
    "data = pd.DataFrame(dic)   # 화면상 딕셔너리 만들기\n",
    "data.to_csv(\"한솥도시락.csv\", encoding = \"euc-kr\")   # 파일로 만들기"
   ]
  },
  {
   "cell_type": "markdown",
   "id": "a210b17e-cac8-4a37-911b-5b173d89b878",
   "metadata": {},
   "source": [
    "# 이번 예제에서 학습 내용\n",
    "1. 반드시 데이터를 수집하기 전에 데이터 로딩이 먼저 일어나야 한다. (더보기, 스크롤 내리기)\n",
    "2. 코드를 통합할 때는 반드시 중간중간 time을 부여해야한다. => 클라이언트와 서버가 데이터를 주고 받을 때만 넣어주기!\n",
    "3. 페이지마다 구조가 다 다르기 때문에 반드시 예외처리를 해야한다.\n",
    "   - 주의점 : 동작을 할 때( 클릭 , 엔터 )는 예외처리 문법에 그냥 print나 pass 넣어주기\n",
    "   - 데이터를 수집할 때 데이터가 없는 경우 => 반드시 null,  0 등과 같은 다른 데이터 넣어주기\n",
    "   - => 개수를 맞추기 위해서 -> 올바르게 표, DB, 파일로 저장할 때 오류를 내지 않기 위해서\n",
    "4. 크롤링의 프로세스\n",
    "   1) 창 실행하기 => 특정 사이트로 이동\n",
    "   2) 데이터 로딩 진행 => 더보기, 스크롤\n",
    "   3) 요소 수집 find_element(s) => 텍스트로 변환\n",
    "   4) 데이터 활용 => 표, 파일 제작"
   ]
  },
  {
   "cell_type": "code",
   "execution_count": null,
   "id": "74018c88-d886-4dee-9ef4-f69b82729d71",
   "metadata": {},
   "outputs": [],
   "source": []
  },
  {
   "cell_type": "code",
   "execution_count": null,
   "id": "d22ce539-3d15-4dbf-81aa-aa2d759afd62",
   "metadata": {},
   "outputs": [],
   "source": []
  }
 ],
 "metadata": {
  "kernelspec": {
   "display_name": "Python 3 (ipykernel)",
   "language": "python",
   "name": "python3"
  },
  "language_info": {
   "codemirror_mode": {
    "name": "ipython",
    "version": 3
   },
   "file_extension": ".py",
   "mimetype": "text/x-python",
   "name": "python",
   "nbconvert_exporter": "python",
   "pygments_lexer": "ipython3",
   "version": "3.11.7"
  }
 },
 "nbformat": 4,
 "nbformat_minor": 5
}
