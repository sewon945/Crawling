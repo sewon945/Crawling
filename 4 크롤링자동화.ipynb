{
 "cells": [
  {
   "cell_type": "markdown",
   "id": "a3797921-854d-41b2-b8e7-63a940676253",
   "metadata": {},
   "source": [
    "# 데이터수집 자동화\n",
    "- 브라우저 동작, 클릭, 엔터, 검색, 휠 내리는 행위 ... => 사람이 하는 건 다 가능\n",
    "- 사람처럼 동작하게 코드를 작성해야 한다.\n",
    "- selenium 라이브러리\n",
    "    - beautifulsoup 필요하지 않음"
   ]
  },
  {
   "cell_type": "code",
   "execution_count": 1,
   "id": "72772bb5-27da-479f-9c93-b83aa560d17f",
   "metadata": {
    "scrolled": true
   },
   "outputs": [
    {
     "name": "stdout",
     "output_type": "stream",
     "text": [
      "Requirement already satisfied: selenium in c:\\users\\ggg\\anaconda3\\lib\\site-packages (4.20.0)\n",
      "Requirement already satisfied: urllib3<3,>=1.26 in c:\\users\\ggg\\anaconda3\\lib\\site-packages (from urllib3[socks]<3,>=1.26->selenium) (2.0.7)\n",
      "Requirement already satisfied: trio~=0.17 in c:\\users\\ggg\\anaconda3\\lib\\site-packages (from selenium) (0.25.0)\n",
      "Requirement already satisfied: trio-websocket~=0.9 in c:\\users\\ggg\\anaconda3\\lib\\site-packages (from selenium) (0.11.1)\n",
      "Requirement already satisfied: certifi>=2021.10.8 in c:\\users\\ggg\\anaconda3\\lib\\site-packages (from selenium) (2024.2.2)\n",
      "Requirement already satisfied: typing_extensions>=4.9.0 in c:\\users\\ggg\\anaconda3\\lib\\site-packages (from selenium) (4.9.0)\n",
      "Requirement already satisfied: attrs>=23.2.0 in c:\\users\\ggg\\anaconda3\\lib\\site-packages (from trio~=0.17->selenium) (23.2.0)\n",
      "Requirement already satisfied: sortedcontainers in c:\\users\\ggg\\anaconda3\\lib\\site-packages (from trio~=0.17->selenium) (2.4.0)\n",
      "Requirement already satisfied: idna in c:\\users\\ggg\\anaconda3\\lib\\site-packages (from trio~=0.17->selenium) (3.4)\n",
      "Requirement already satisfied: outcome in c:\\users\\ggg\\anaconda3\\lib\\site-packages (from trio~=0.17->selenium) (1.3.0.post0)\n",
      "Requirement already satisfied: sniffio>=1.3.0 in c:\\users\\ggg\\anaconda3\\lib\\site-packages (from trio~=0.17->selenium) (1.3.0)\n",
      "Requirement already satisfied: cffi>=1.14 in c:\\users\\ggg\\anaconda3\\lib\\site-packages (from trio~=0.17->selenium) (1.16.0)\n",
      "Requirement already satisfied: wsproto>=0.14 in c:\\users\\ggg\\anaconda3\\lib\\site-packages (from trio-websocket~=0.9->selenium) (1.2.0)\n",
      "Requirement already satisfied: pysocks!=1.5.7,<2.0,>=1.5.6 in c:\\users\\ggg\\anaconda3\\lib\\site-packages (from urllib3[socks]<3,>=1.26->selenium) (1.7.1)\n",
      "Requirement already satisfied: pycparser in c:\\users\\ggg\\anaconda3\\lib\\site-packages (from cffi>=1.14->trio~=0.17->selenium) (2.21)\n",
      "Requirement already satisfied: h11<1,>=0.9.0 in c:\\users\\ggg\\anaconda3\\lib\\site-packages (from wsproto>=0.14->trio-websocket~=0.9->selenium) (0.14.0)\n"
     ]
    }
   ],
   "source": [
    "# 라이브러리 (강제) 설치 - 한 번만 설치하면 된다!\n",
    "# ! : 부정 or 명령(강제)\n",
    "# pip install : 설치할 때 쓰는 코드\n",
    "!pip install selenium"
   ]
  },
  {
   "cell_type": "code",
   "execution_count": 2,
   "id": "623becc5-9ed3-44e7-a534-77e61f933611",
   "metadata": {},
   "outputs": [],
   "source": [
    "# 1. 브라우저 역할을 해주는 라이브러리 (필수)\n",
    "from selenium import webdriver as wb\n",
    "# 2. (신버전) 선택자의 구분자 역할을 해주는 라이브러리 (필수)\n",
    "from selenium.webdriver.common.by import By\n",
    "# 3. 컴퓨터용 키보드 (선택사항) \n",
    "from selenium.webdriver.common.keys import Keys"
   ]
  },
  {
   "cell_type": "code",
   "execution_count": 3,
   "id": "b7c1015c-4322-4041-9fef-fcb14e41605b",
   "metadata": {},
   "outputs": [],
   "source": [
    "# 1. 크롬브라우저 실행하기\n",
    "driver = wb.Chrome()"
   ]
  },
  {
   "cell_type": "code",
   "execution_count": 4,
   "id": "daa20d2d-25e9-4eba-96d6-2039e6adb09a",
   "metadata": {},
   "outputs": [],
   "source": [
    "# 2. 네이버 페이지로 이동하기\n",
    "driver.get(\"http://www.naver.com\")"
   ]
  },
  {
   "cell_type": "code",
   "execution_count": 5,
   "id": "3e3c338f-ba6f-440e-9ebd-6a76b630458b",
   "metadata": {},
   "outputs": [],
   "source": [
    "# 3. 검색창에 기아타이거즈 검색하기\n",
    "# 3-1. 검색창의 위치를 알려줘야한다. (태그)\n",
    "# 일반적인 사고 : 브라우저에서 id가 query인 요소를 찾아줘! (네이버 검색창의 선택자가 id가 query인 걸 찾겠다!)\n",
    "# 드라이버에서 찾겠다 요소를 id(구체적인 요소)가 query(디테일한 값)인\n",
    "# 구버전 => driver.find_element_by_id(\"query\")\n",
    "search = driver.find_element(By.ID, \"query\")"
   ]
  },
  {
   "cell_type": "code",
   "execution_count": 6,
   "id": "aafff384-03e9-45f9-ba47-fce2f281e8a4",
   "metadata": {},
   "outputs": [],
   "source": [
    "# 4. 검색창에 기아타이거즈 값을 보내주기\n",
    "search.send_keys(\"기아타이거즈\")"
   ]
  },
  {
   "cell_type": "code",
   "execution_count": 7,
   "id": "99493d9a-0c67-49d4-9fbf-da09eaf00555",
   "metadata": {},
   "outputs": [],
   "source": [
    "# 5. 키보드에 있는 엔터 누르기\n",
    "search.send_keys(Keys.ENTER)"
   ]
  },
  {
   "cell_type": "code",
   "execution_count": 8,
   "id": "96758661-5f49-4a6f-b0de-d2cf4a863bed",
   "metadata": {},
   "outputs": [],
   "source": [
    "# 6. 페이지 뒤로가기\n",
    "driver.back()"
   ]
  },
  {
   "cell_type": "code",
   "execution_count": 9,
   "id": "926674bb-5ad1-4222-8294-6d2bb7695e76",
   "metadata": {},
   "outputs": [],
   "source": [
    "# 7. 검색창에 두산베어스 검색하기\n",
    "# 페이지를 뒤로 가면(이동하면) 초기화되어 다시 검색창을 다시 찾아야함\n",
    "\n",
    "# ***페이지가 이동을 하면 (전체 페이지가 깜빡(페이지가 바뀔 때)거려서) 모든 요소 초기화되어\n",
    "# => 반드시 요소를 다시 찾아야한다!!!!***\n",
    "\n",
    "search = driver.find_element(By.ID, \"query\")\n",
    "search.send_keys(\"두산베어스\")"
   ]
  },
  {
   "cell_type": "code",
   "execution_count": 10,
   "id": "c719c20f-6705-447d-8f56-663a87deaeb8",
   "metadata": {},
   "outputs": [],
   "source": [
    "# 8. (검색창의) 돋보기 버튼을 클릭해서 검색하기\n",
    "# CSS_SELECTOR : 콤마하고 전체 선택자 쓰기 (#id)?\n",
    "btn = driver.find_element(By.CSS_SELECTOR, \"#sform > fieldset > button\")\n",
    "btn.click()"
   ]
  },
  {
   "cell_type": "code",
   "execution_count": 11,
   "id": "750f2b86-44f5-4b7a-808c-1815396e9462",
   "metadata": {},
   "outputs": [],
   "source": [
    "# 9. 페이지의 최하단으로 이동하기(페이지를 맨 밑으로 내리기)\n",
    "body = driver.find_element(By.CSS_SELECTOR, \"body\")\n",
    "body.send_keys(Keys.END)"
   ]
  },
  {
   "cell_type": "code",
   "execution_count": 12,
   "id": "dd0386d1-f24c-435f-ae50-bec20e128467",
   "metadata": {},
   "outputs": [],
   "source": [
    "# 스크롤을 내릴 때에는 페이지가 깜빡거리지 않기에 바디를 다시 찾지 않아도 가능 - 비동기 통신화\n",
    "body.send_keys(Keys.END)"
   ]
  },
  {
   "cell_type": "code",
   "execution_count": 13,
   "id": "358d9236-1309-4287-9dd0-d1c16910d45b",
   "metadata": {},
   "outputs": [],
   "source": [
    "# 10. 뉴스 타이틀만 수집\n",
    "# find_elements : 복수개이기에 리턴 타입이 리스트\n",
    "# copy selector은 한 개만 가져오는 것\n",
    "title = driver.find_elements(By.CSS_SELECTOR, \"div > div > div.news_contents > a.news_tit\")"
   ]
  },
  {
   "cell_type": "code",
   "execution_count": 14,
   "id": "b3a2e7cf-3ac3-4011-a72c-371a4a1b7d1c",
   "metadata": {},
   "outputs": [],
   "source": [
    "# 글자만 필요하면 비어있는 리스트에 반복문으로 글자만 가져오기(넣기)\n",
    "titleList = []\n",
    "for i in title :\n",
    "    titleList.append(i.text)"
   ]
  },
  {
   "cell_type": "code",
   "execution_count": 15,
   "id": "ce55b51f-e0e7-4488-bbea-c88b4e59e71d",
   "metadata": {},
   "outputs": [
    {
     "data": {
      "text/plain": [
       "['두산베어스 주장 양석환 손에 들린 이것…회장님의 태블릿PC 선물 왜?',\n",
       " '[포토] 8연승 기쁨 나누는 두산 베어스',\n",
       " '승승승승승승승승, 5월 베어스 누가 말리나…‘곽빈·최준호 승리 합창’ ...',\n",
       " '승리거둔 두산 베어스']"
      ]
     },
     "execution_count": 15,
     "metadata": {},
     "output_type": "execute_result"
    }
   ],
   "source": [
    "titleList"
   ]
  },
  {
   "cell_type": "code",
   "execution_count": 16,
   "id": "8fd4f8cc-4098-4074-a1b3-d5ddd02d2302",
   "metadata": {},
   "outputs": [],
   "source": [
    "# 11. 브라우저 창 종료하기\n",
    "# close(), quit() 이라는 명령어 두 개 존재\n",
    "# close() : 창만 닫는 거라 오류 뜰 수 있음\n",
    "# quit() : 메모리까지 죽여서 오류X\n",
    "driver.close()"
   ]
  },
  {
   "cell_type": "code",
   "execution_count": 17,
   "id": "901e2a39-af43-40a6-8bc4-56325e288030",
   "metadata": {},
   "outputs": [],
   "source": [
    "# 컬럼명(변수) 만들 때\n",
    "# 의미 직관성!!\n",
    "# 카멜케이스 (titleList) : 중간 대문자\n",
    "# K-개발자가 변수 만들 때 : ex)시군구 - siGoonGo 라고 일단 쉽게 읽을 수 있게끔 만들어놓음 "
   ]
  }
 ],
 "metadata": {
  "kernelspec": {
   "display_name": "Python 3 (ipykernel)",
   "language": "python",
   "name": "python3"
  },
  "language_info": {
   "codemirror_mode": {
    "name": "ipython",
    "version": 3
   },
   "file_extension": ".py",
   "mimetype": "text/x-python",
   "name": "python",
   "nbconvert_exporter": "python",
   "pygments_lexer": "ipython3",
   "version": "3.11.7"
  }
 },
 "nbformat": 4,
 "nbformat_minor": 5
}
